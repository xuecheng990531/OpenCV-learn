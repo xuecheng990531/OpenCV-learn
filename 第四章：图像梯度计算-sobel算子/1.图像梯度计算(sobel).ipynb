{
 "cells": [
  {
   "cell_type": "markdown",
   "source": [
    "![](/Users/lixuecheng/Downloads/OpenCV/代码+资料/第2-7章notebook课件/图像操作/sobel_1.png)"
   ],
   "metadata": {}
  },
  {
   "cell_type": "code",
   "execution_count": null,
   "source": [
    "import cv2 as cv\n",
    "import matplotlib.pyplot as plt\n",
    "import numpy as np"
   ],
   "outputs": [],
   "metadata": {}
  },
  {
   "cell_type": "code",
   "execution_count": null,
   "source": [
    "def show(img):\n",
    "    plt.figure(dpi=100,figsize=(8,5))\n",
    "    plt.xticks([]),plt.yticks([])\n",
    "    plt.imshow(img)\n",
    "    plt.show()"
   ],
   "outputs": [],
   "metadata": {}
  },
  {
   "cell_type": "code",
   "execution_count": null,
   "source": [
    "circle=cv.imread('/Users/lixuecheng/Downloads/OpenCV/代码+资料/第2-7章notebook课件/图像操作/pie.png')\n",
    "show(circle)"
   ],
   "outputs": [],
   "metadata": {}
  },
  {
   "cell_type": "markdown",
   "source": [
    "**`sobel_x=cv.Sobel(src,kdepth,dx,dy,ksize)-sobel算子`**\n",
    "\n",
    "  **`socharr=cv.Socharr(src,kdepth,dx,dy)-socharr算子`** \n",
    "\n",
    "  **`laplasi=cv2.Laplacian(src,kdepth) -拉普拉斯算子`**"
   ],
   "metadata": {}
  },
  {
   "cell_type": "markdown",
   "source": [
    "src:传入的图像\n",
    "\n",
    "kdepth：默认CV_64F\n",
    "\n",
    "dx,dy:取值1或0，表示显示横坐标方向的梯度还是纵坐标的梯度\n",
    "\n",
    "ksize：算子大小，一般就是3*3的内核"
   ],
   "metadata": {}
  },
  {
   "cell_type": "code",
   "execution_count": null,
   "source": [
    "sobel_x=cv.Sobel(circle,cv.CV_64F,1,0,3)\n",
    "sobel_x=cv.convertScaleAbs(sobel_x)\n",
    "show(sobel_x)"
   ],
   "outputs": [],
   "metadata": {}
  },
  {
   "cell_type": "code",
   "execution_count": null,
   "source": [
    "sobel_y=cv.Sobel(circle,cv.CV_64F,0,1,3)\n",
    "sobel_y=cv.convertScaleAbs(sobel_y)\n",
    "show(sobel_y)"
   ],
   "outputs": [],
   "metadata": {}
  },
  {
   "cell_type": "code",
   "execution_count": null,
   "source": [
    "#合并\n",
    "add_img=cv.addWeighted(sobel_y,0.5,sobel_x,0.5,0)\n",
    "show(add_img)"
   ],
   "outputs": [],
   "metadata": {}
  },
  {
   "cell_type": "code",
   "execution_count": null,
   "source": [],
   "outputs": [],
   "metadata": {}
  }
 ],
 "metadata": {
  "orig_nbformat": 4,
  "language_info": {
   "name": "python"
  }
 },
 "nbformat": 4,
 "nbformat_minor": 2
}