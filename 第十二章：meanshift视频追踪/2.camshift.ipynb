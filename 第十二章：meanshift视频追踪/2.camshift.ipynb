{
 "cells": [
  {
   "cell_type": "code",
   "execution_count": 1,
   "source": [
    "import cv2 as cv\n",
    "import matplotlib.pyplot as plt\n",
    "import imutils\n",
    "import numpy as np\n",
    "#获取视频\n",
    "cap=cv.VideoCapture('/Users/lixuecheng/Desktop/2021-7-28 15.56拍摄的影片 #2.mov')"
   ],
   "outputs": [],
   "metadata": {}
  },
  {
   "cell_type": "code",
   "execution_count": 2,
   "source": [
    "#首先读取视频的一帧，确定要选择的区域进行识别\n",
    "ret,frame=cap.read()\n",
    "#选择一个区域\n",
    "r,h,c,w=400,200,600,300\n",
    "#将窗口的区域赋值给window\n",
    "window=(c,r,h,w)"
   ],
   "outputs": [],
   "metadata": {}
  },
  {
   "cell_type": "code",
   "execution_count": 3,
   "source": [
    "#ROI,确定我们的ROI区域\n",
    "roi=frame[r:r+h,c:c+w]"
   ],
   "outputs": [],
   "metadata": {}
  },
  {
   "cell_type": "code",
   "execution_count": 4,
   "source": [
    "#将ROI区域转换成HSV格式\n",
    "hsv_roi=cv.cvtColor(roi,cv.COLOR_BGR2HSV)\n",
    "#计算直方图\n",
    "'''\n",
    "cv2.calcHist(images, channels, mask, histSize, ranges)\n",
    " channels 代表色彩通道\n",
    " mask一般设置为none\n",
    " histSize:使用多少个bin(柱子)，一般为256\n",
    " ranges:像素值的范围，一般为[0,255]表示0~255\n",
    "'''\n",
    "roi_hist=cv.calcHist(hsv_roi,[0],None,[180],[0,180])"
   ],
   "outputs": [],
   "metadata": {}
  },
  {
   "cell_type": "code",
   "execution_count": 5,
   "source": [
    "#开始目标追踪\n",
    "#设置终止条件，最大迭代次数为10，阈值为1\n",
    "term=(cv.TERM_CRITERIA_EPS|cv.TERM_CRITERIA_COUNT,10,1)"
   ],
   "outputs": [],
   "metadata": {}
  },
  {
   "cell_type": "code",
   "execution_count": 6,
   "source": [
    "while (True):\n",
    "    #读取每一帧\n",
    "    ret,frame=cap.read()\n",
    "    if ret==True:\n",
    "        #计算直方图的反射投影\n",
    "        hsv=cv.cvtColor(frame,cv.COLOR_BGR2HSV)\n",
    "        '''\n",
    "        calcBackProject(images, channels, hist, ranges, scale)\n",
    "\n",
    "        images参数表示输入图像（是HSV图像）。传入时应该用中括号[ ]括起来。\n",
    "        channels参数表示用于计算反向投影的通道列表，通道数必须与直方图维度相匹配。\n",
    "        hist参数表示输入的模板图像直方图。\n",
    "        ranges参数表示直方图中每个维度bin的取值范围 （即每个维度有多少个bin）。\n",
    "        scale参数表示可选输出反向投影的比例因子，一般取1。\n",
    "        '''\n",
    "        dst=cv.calcBackProject([hsv],[0],roi_hist,[0,180],1)\n",
    "        ret,trackwindow=cv.CamShift(dst,window,term)\n",
    "        \n",
    "\n",
    "        pts=cv.boxPoints(ret)\n",
    "        pts=np.int0(pts)\n",
    "        img2=cv.polylines(frame,[pts],True,(0,255,255),2)\n",
    "        cv.imshow(\"frame\",img2)\n",
    "        if cv.waitKey(40)&0xFF==27:\n",
    "            break\n",
    "cap.release()\n",
    "cv.destroyAllWindows()"
   ],
   "outputs": [],
   "metadata": {}
  }
 ],
 "metadata": {
  "orig_nbformat": 4,
  "language_info": {
   "name": "python",
   "version": "3.9.4",
   "mimetype": "text/x-python",
   "codemirror_mode": {
    "name": "ipython",
    "version": 3
   },
   "pygments_lexer": "ipython3",
   "nbconvert_exporter": "python",
   "file_extension": ".py"
  },
  "kernelspec": {
   "name": "python3",
   "display_name": "Python 3.9.4 64-bit ('base': conda)"
  },
  "interpreter": {
   "hash": "a875410d6ae0565ffe07417982a6fcce4d826dde572ed57467e626b4a4d85ed8"
  }
 },
 "nbformat": 4,
 "nbformat_minor": 2
}