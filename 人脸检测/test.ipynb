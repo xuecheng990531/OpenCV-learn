{
 "cells": [
  {
   "cell_type": "code",
   "execution_count": 1,
   "source": [
    "#导入库\n",
    "import matplotlib.pyplot as plt\n",
    "import cv2 as cv\n",
    "import imutils"
   ],
   "outputs": [],
   "metadata": {}
  },
  {
   "cell_type": "code",
   "execution_count": 2,
   "source": [
    "cap=cv.VideoCapture(0,cv.CAP_DSHOW)\n",
    "while cap.isOpened():\n",
    "    ret,frame=cap.read()\n",
    "    cv.imshow(\"frame\",frame)\n",
    "    if cv.waitKey(10)&0xFF==27:\n",
    "        break\n",
    "cap.release()\n",
    "cv.destroyAllWindows()"
   ],
   "outputs": [],
   "metadata": {}
  },
  {
   "cell_type": "code",
   "execution_count": null,
   "source": [],
   "outputs": [],
   "metadata": {}
  }
 ],
 "metadata": {
  "orig_nbformat": 4,
  "language_info": {
   "name": "python",
   "version": "3.9.4",
   "mimetype": "text/x-python",
   "codemirror_mode": {
    "name": "ipython",
    "version": 3
   },
   "pygments_lexer": "ipython3",
   "nbconvert_exporter": "python",
   "file_extension": ".py"
  },
  "kernelspec": {
   "name": "python3",
   "display_name": "Python 3.9.4 64-bit ('base': conda)"
  },
  "interpreter": {
   "hash": "a875410d6ae0565ffe07417982a6fcce4d826dde572ed57467e626b4a4d85ed8"
  }
 },
 "nbformat": 4,
 "nbformat_minor": 2
}