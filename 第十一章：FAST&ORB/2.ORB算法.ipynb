{
 "cells": [
  {
   "cell_type": "code",
   "execution_count": 1,
   "source": [
    "import cv2 as cv\n",
    "import matplotlib.pyplot as plt\n",
    "import imutils\n",
    "import numpy as np"
   ],
   "outputs": [],
   "metadata": {}
  },
  {
   "cell_type": "code",
   "execution_count": 2,
   "source": [
    "#灰度图\n",
    "img2=cv.imread('/Users/lixuecheng/Desktop/python/OpenCV/image/央视总部大楼.jpeg')\n",
    "img3=cv.imread('/Users/lixuecheng/Desktop/python/OpenCV/image/央视总部大楼.jpeg')\n",
    "img=cv.imread('/Users/lixuecheng/Desktop/python/OpenCV/image/央视总部大楼.jpeg')\n",
    "grayimg=cv.cvtColor(img,cv.COLOR_BGR2GRAY)"
   ],
   "outputs": [],
   "metadata": {}
  },
  {
   "cell_type": "code",
   "execution_count": null,
   "source": [],
   "outputs": [],
   "metadata": {}
  }
 ],
 "metadata": {
  "orig_nbformat": 4,
  "language_info": {
   "name": "python",
   "version": "3.9.4",
   "mimetype": "text/x-python",
   "codemirror_mode": {
    "name": "ipython",
    "version": 3
   },
   "pygments_lexer": "ipython3",
   "nbconvert_exporter": "python",
   "file_extension": ".py"
  },
  "kernelspec": {
   "name": "python3",
   "display_name": "Python 3.9.4 64-bit ('base': conda)"
  },
  "interpreter": {
   "hash": "a875410d6ae0565ffe07417982a6fcce4d826dde572ed57467e626b4a4d85ed8"
  }
 },
 "nbformat": 4,
 "nbformat_minor": 2
}