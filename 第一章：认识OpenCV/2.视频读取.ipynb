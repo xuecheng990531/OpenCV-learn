{
 "cells": [
  {
   "cell_type": "code",
   "execution_count": 1,
   "source": [
    "#视频读取\n",
    "#读取视频资料\n",
    "import cv2 as cv\n",
    "vc=cv.VideoCapture(\"/Users/lixuecheng/Downloads/OpenCV/代码+资料/第2-7章notebook课件/图像操作/test.mp4\")\n",
    "#判断是否正确打开\n"
   ],
   "outputs": [],
   "metadata": {}
  },
  {
   "cell_type": "code",
   "execution_count": 2,
   "source": [
    "\n",
    "if vc.isOpened():\n",
    "    open,frame=vc.read()#open是bool类型，   \n",
    "else:\n",
    "    open=False"
   ],
   "outputs": [],
   "metadata": {}
  },
  {
   "cell_type": "code",
   "execution_count": 3,
   "source": [
    "while open:\n",
    "    ret,frame=vc.read()\n",
    "    if frame is None:\n",
    "        break\n",
    "    elif ret is True:\n",
    "        gray=cv.cvtColor(frame,cv.COLOR_BGR2GRAY)#转成灰度帧\n",
    "        cv.imshow('result',gray)\n",
    "        if cv.waitKey(10)&0xFF==27:\n",
    "            break\n",
    "vc.release()\n",
    "cv.destroyAllWindows()"
   ],
   "outputs": [],
   "metadata": {}
  },
  {
   "cell_type": "code",
   "execution_count": null,
   "source": [],
   "outputs": [],
   "metadata": {}
  }
 ],
 "metadata": {
  "orig_nbformat": 4,
  "language_info": {
   "name": "python"
  }
 },
 "nbformat": 4,
 "nbformat_minor": 2
}