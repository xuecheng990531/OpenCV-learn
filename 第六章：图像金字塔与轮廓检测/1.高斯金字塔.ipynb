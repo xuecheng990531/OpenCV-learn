{
 "cells": [
  {
   "cell_type": "markdown",
   "source": [
    "![image](/Users/lixuecheng/Downloads/OpenCV/代码+资料/第2-7章notebook课件/图像操作/Pyramid_1.png)"
   ],
   "metadata": {}
  },
  {
   "cell_type": "markdown",
   "source": [
    "向下采样（从level0-level4不断缩小的过程）\n",
    "采用下图的卷积核进行内积操作"
   ],
   "metadata": {}
  },
  {
   "cell_type": "markdown",
   "source": [
    "![image](/Users/lixuecheng/Downloads/OpenCV/代码+资料/第2-7章notebook课件/图像操作/Pyramid_2.png)"
   ],
   "metadata": {}
  },
  {
   "cell_type": "markdown",
   "source": [
    "向上采样则是与向下采样截然相反"
   ],
   "metadata": {}
  },
  {
   "cell_type": "markdown",
   "source": [
    "![image](/Users/lixuecheng/Downloads/OpenCV/代码+资料/第2-7章notebook课件/图像操作/Pyramid_3.png)"
   ],
   "metadata": {}
  },
  {
   "cell_type": "markdown",
   "source": [],
   "metadata": {}
  }
 ],
 "metadata": {
  "orig_nbformat": 4,
  "language_info": {
   "name": "python"
  }
 },
 "nbformat": 4,
 "nbformat_minor": 2
}