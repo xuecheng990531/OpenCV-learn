{
 "cells": [
  {
   "cell_type": "code",
   "execution_count": 1,
   "source": [
    "#截取部分图像区域\n",
    "import cv2 as cv\n",
    "im=cv.imread('/Users/lixuecheng/Downloads/OpenCV/代码+资料/第2-7章notebook课件/图像操作/cat.jpg')"
   ],
   "outputs": [],
   "metadata": {}
  },
  {
   "cell_type": "code",
   "execution_count": 3,
   "source": [
    "cat=im[0:200,0:200]\n",
    "cv.imshow(\"ROI\",cat)\n",
    "cv.waitKey(20)"
   ],
   "outputs": [],
   "metadata": {}
  },
  {
   "cell_type": "markdown",
   "source": [
    "颜色通道分离"
   ],
   "metadata": {}
  },
  {
   "cell_type": "code",
   "execution_count": 7,
   "source": [
    "\n",
    "b,g,r=cv.split(im)\n",
    "b.shape"
   ],
   "outputs": [
    {
     "output_type": "execute_result",
     "data": {
      "text/plain": [
       "(414, 500)"
      ]
     },
     "metadata": {},
     "execution_count": 7
    }
   ],
   "metadata": {}
  },
  {
   "cell_type": "code",
   "execution_count": 8,
   "source": [
    "#b,g,r对应的索引分别为0，1，2\n",
    "cur_image=im.copy()#复制一份im\n",
    "cur_image[:,:,0]=0\n",
    "cur_image[:,:,1]=0\n",
    "cv.imshow(\"Red Line\",cur_image)\n",
    "cv.waitKey(10)"
   ],
   "outputs": [],
   "metadata": {}
  },
  {
   "cell_type": "code",
   "execution_count": null,
   "source": [],
   "outputs": [],
   "metadata": {}
  }
 ],
 "metadata": {
  "orig_nbformat": 4,
  "language_info": {
   "name": "python"
  }
 },
 "nbformat": 4,
 "nbformat_minor": 2
}