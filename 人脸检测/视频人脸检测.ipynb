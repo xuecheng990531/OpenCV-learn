{
 "cells": [
  {
   "cell_type": "code",
   "execution_count": 5,
   "source": [
    "#导入库\n",
    "import matplotlib.pyplot as plt\n",
    "import cv2 as cv\n",
    "import imutils\n"
   ],
   "outputs": [],
   "metadata": {}
  },
  {
   "cell_type": "code",
   "execution_count": 6,
   "source": [
    "cap=cv.VideoCapture('/Users/lixuecheng/Desktop/python/OpenCV/image/2021-7-29 09.37拍摄的影片.mov')"
   ],
   "outputs": [
    {
     "output_type": "stream",
     "name": "stderr",
     "text": [
      "OpenCV: Couldn't read video stream from file \"/Users/lixuecheng/Desktop/2021-7-29 09.37拍摄的影片.mov\"\n"
     ]
    }
   ],
   "metadata": {}
  },
  {
   "cell_type": "code",
   "execution_count": 7,
   "source": [
    "face_cas=cv.CascadeClassifier('/Users/lixuecheng/Desktop/python/OpenCV/人脸检测/haarcascade_frontalface_default.xml')\n",
    "face_cas.load('/Users/lixuecheng/Desktop/python/OpenCV/人脸检测/haarcascade_frontalface_default.xml')"
   ],
   "outputs": [
    {
     "output_type": "execute_result",
     "data": {
      "text/plain": [
       "True"
      ]
     },
     "metadata": {},
     "execution_count": 7
    }
   ],
   "metadata": {}
  },
  {
   "cell_type": "code",
   "execution_count": 8,
   "source": [
    "while True:\n",
    "    #读取视频片段\n",
    "    ret,frame=cap.read()\n",
    "    if ret == True:\n",
    "        #对某帧进行缩放处理\n",
    "        #frame=cv.resize(frame,None,fx=0.5,fy=0.5)\n",
    "        #对帧进行灰度处理\n",
    "        gray=cv.cvtColor(frame,cv.COLOR_BGR2GRAY)\n",
    "\n",
    "        #人脸检测\n",
    "        face_zone=face_cas.detectMultiScale(gray,scaleFactor=1.3,minNeighbors=3,minSize=(2,2))\n",
    "\n",
    "        #绘制人脸矩形框\n",
    "        for x,y,w,h in face_zone:\n",
    "            #画出矩形框\n",
    "            cv.rectangle(frame,(x,y),(x+w,y+h),(0,0,255),3)\n",
    "            cv.imshow(\"frame\",frame)\n",
    "            if cv.waitKey(60)&0xFF==27:\n",
    "                break\n",
    "cap.release()\n",
    "cv.destroyAllWindows()\n"
   ],
   "outputs": [
    {
     "output_type": "error",
     "ename": "KeyboardInterrupt",
     "evalue": "",
     "traceback": [
      "\u001b[0;31m---------------------------------------------------------------------------\u001b[0m",
      "\u001b[0;31mKeyboardInterrupt\u001b[0m                         Traceback (most recent call last)",
      "\u001b[0;32m/var/folders/b_/mk61206924nfcsgg4bl8pplw0000gn/T/ipykernel_10830/3634739828.py\u001b[0m in \u001b[0;36m<module>\u001b[0;34m\u001b[0m\n\u001b[1;32m      1\u001b[0m \u001b[0;32mwhile\u001b[0m \u001b[0;32mTrue\u001b[0m\u001b[0;34m:\u001b[0m\u001b[0;34m\u001b[0m\u001b[0;34m\u001b[0m\u001b[0m\n\u001b[1;32m      2\u001b[0m     \u001b[0;31m#读取视频片段\u001b[0m\u001b[0;34m\u001b[0m\u001b[0;34m\u001b[0m\u001b[0;34m\u001b[0m\u001b[0m\n\u001b[0;32m----> 3\u001b[0;31m     \u001b[0mret\u001b[0m\u001b[0;34m,\u001b[0m\u001b[0mframe\u001b[0m\u001b[0;34m=\u001b[0m\u001b[0mcap\u001b[0m\u001b[0;34m.\u001b[0m\u001b[0mread\u001b[0m\u001b[0;34m(\u001b[0m\u001b[0;34m)\u001b[0m\u001b[0;34m\u001b[0m\u001b[0;34m\u001b[0m\u001b[0m\n\u001b[0m\u001b[1;32m      4\u001b[0m     \u001b[0;32mif\u001b[0m \u001b[0mret\u001b[0m \u001b[0;34m==\u001b[0m \u001b[0;32mTrue\u001b[0m\u001b[0;34m:\u001b[0m\u001b[0;34m\u001b[0m\u001b[0;34m\u001b[0m\u001b[0m\n\u001b[1;32m      5\u001b[0m         \u001b[0;31m#对某帧进行缩放处理\u001b[0m\u001b[0;34m\u001b[0m\u001b[0;34m\u001b[0m\u001b[0;34m\u001b[0m\u001b[0m\n",
      "\u001b[0;31mKeyboardInterrupt\u001b[0m: "
     ]
    }
   ],
   "metadata": {}
  }
 ],
 "metadata": {
  "orig_nbformat": 4,
  "language_info": {
   "name": "python",
   "version": "3.9.4",
   "mimetype": "text/x-python",
   "codemirror_mode": {
    "name": "ipython",
    "version": 3
   },
   "pygments_lexer": "ipython3",
   "nbconvert_exporter": "python",
   "file_extension": ".py"
  },
  "kernelspec": {
   "name": "python3",
   "display_name": "Python 3.9.4 64-bit ('base': conda)"
  },
  "interpreter": {
   "hash": "a875410d6ae0565ffe07417982a6fcce4d826dde572ed57467e626b4a4d85ed8"
  }
 },
 "nbformat": 4,
 "nbformat_minor": 2
}